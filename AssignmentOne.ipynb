{
 "cells": [
  {
   "cell_type": "code",
   "execution_count": 18,
   "metadata": {},
   "outputs": [
    {
     "name": "stdout",
     "output_type": "stream",
     "text": [
      "Twinkle, twinkle, little star,\n",
      "                How I wonder what you are!\n",
      "                      Up above the world so high,\n",
      "                      Like a diamond in the sky.\n",
      "          Twinkle, twinkle, littler star,\n",
      "                 How I wonder what you are\n"
     ]
    }
   ],
   "source": [
    "# declare a variable multi line comments\n",
    "var = \"\"\"Twinkle, twinkle, little star,\n",
    "                How I wonder what you are!\n",
    "                      Up above the world so high,\n",
    "                      Like a diamond in the sky.\n",
    "          Twinkle, twinkle, littler star,\n",
    "                 How I wonder what you are\"\"\"\n",
    "# print variable\n",
    "print(var)"
   ]
  },
  {
   "cell_type": "code",
   "execution_count": 19,
   "metadata": {},
   "outputs": [
    {
     "name": "stdout",
     "output_type": "stream",
     "text": [
      "3.7.4 (default, Aug  9 2019, 18:34:13) [MSC v.1915 64 bit (AMD64)]\n"
     ]
    }
   ],
   "source": [
    "# import sys file\n",
    "import sys\n",
    "\n",
    "# print python version\n",
    "print(sys.version)"
   ]
  },
  {
   "cell_type": "code",
   "execution_count": 20,
   "metadata": {},
   "outputs": [
    {
     "name": "stdout",
     "output_type": "stream",
     "text": [
      "2019-11-03 10:37:16.421994\n"
     ]
    }
   ],
   "source": [
    "# import date and time \n",
    "import datetime\n",
    "\n",
    "# initialize current date and time variable now\n",
    "now = datetime.datetime.now()\n",
    "\n",
    "# print now\n",
    "print(now)"
   ]
  },
  {
   "cell_type": "code",
   "execution_count": 21,
   "metadata": {},
   "outputs": [
    {
     "name": "stdout",
     "output_type": "stream",
     "text": [
      "Please Enter The Radius Of The Circle1.1\n",
      "The Area Of The Circle With The Radius is: 1.1 3.8013271108436504\n"
     ]
    }
   ],
   "source": [
    "# import pi from the math\n",
    "from math import pi\n",
    "\n",
    "# declare r variable and take input from the user and also convert string in floatType\n",
    "r = float(input(\"Please Enter The Radius Of The Circle\"))\n",
    "\n",
    "# now apply circle formula\n",
    "formula = pi * r**2\n",
    "\n",
    "# display \n",
    "print(\"The Area Of The Circle With The Radius is: \" + str(r)+ \" \" + str(formula))"
   ]
  },
  {
   "cell_type": "code",
   "execution_count": 22,
   "metadata": {},
   "outputs": [
    {
     "name": "stdout",
     "output_type": "stream",
     "text": [
      "Please Enter The FirstName: imran\n",
      "Please Enter The LastName: shah\n",
      "Hello shah imran\n"
     ]
    }
   ],
   "source": [
    "# take input from the user\n",
    "firstName = input(\"Please Enter The FirstName: \")\n",
    "lastName = input(\"Please Enter The LastName: \")\n",
    "\n",
    "\n",
    "display = \"Hello \" + lastName + \" \" + firstName\n",
    "\n",
    "print(display)"
   ]
  },
  {
   "cell_type": "code",
   "execution_count": 23,
   "metadata": {},
   "outputs": [
    {
     "name": "stdout",
     "output_type": "stream",
     "text": [
      "Please Enter The First Num: 3\n",
      "Please Enter The Second Num: 4\n",
      "Your First Number Is: 3 Your Second Number Is: 4\n",
      "Result adding 2 Number:  7\n"
     ]
    }
   ],
   "source": [
    "# take input from the user\n",
    "num1 = input(\"Please Enter The First Num: \")\n",
    "num2 = input(\"Please Enter The Second Num: \")\n",
    "\n",
    "# convert the string in intType\n",
    "convert1 = int(num1)\n",
    "convert2 = int(num2)\n",
    "\n",
    "display1 = \"Your First Number Is: \" + num1\n",
    "display2 = \"Your Second Number Is: \" + num2\n",
    "\n",
    "addNum = convert1 + convert2\n",
    "print(display1, display2)\n",
    "\n",
    "print(\"Result adding 2 Number: \",str(addNum))"
   ]
  },
  {
   "cell_type": "code",
   "execution_count": null,
   "metadata": {},
   "outputs": [],
   "source": []
  }
 ],
 "metadata": {
  "kernelspec": {
   "display_name": "Python 3",
   "language": "python",
   "name": "python3"
  },
  "language_info": {
   "codemirror_mode": {
    "name": "ipython",
    "version": 3
   },
   "file_extension": ".py",
   "mimetype": "text/x-python",
   "name": "python",
   "nbconvert_exporter": "python",
   "pygments_lexer": "ipython3",
   "version": "3.7.4"
  }
 },
 "nbformat": 4,
 "nbformat_minor": 2
}
